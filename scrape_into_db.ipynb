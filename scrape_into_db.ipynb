{
 "cells": [
  {
   "cell_type": "code",
   "execution_count": null,
   "metadata": {
    "collapsed": true
   },
   "outputs": [],
   "source": [
    "from bs4 import BeautifulSoup\n",
    "\n",
    "with open('index.html') as f:\n",
    "    soup = BeautifulSoup(f, 'html.parser')\n",
    "    \n",
    "for a in soup.find_all('a'):\n",
    "    print(a.get('href'), a.text)"
   ]
  },
  {
   "cell_type": "code",
   "execution_count": 2,
   "outputs": [
    {
     "name": "stdout",
     "text": [
      "はてなブックマーク - 人気エントリー - テクノロジー\n",
      "[{'rel': 'alternate', 'type': 'text/html', 'href': 'https://b.hatena.ne.jp/hotentry/it'}]\n"
     ],
     "output_type": "stream"
    },
    {
     "data": {
      "text/plain": "30"
     },
     "metadata": {},
     "output_type": "execute_result",
     "execution_count": 2
    }
   ],
   "source": [
    "import feedparser\n",
    "\n",
    "d = feedparser.parse('http://b.hatena.ne.jp/hotentry/it.rss')\n",
    "print(d['feed']['title'])\n",
    "print(d.feed.links)\n",
    "len(d.entries)"
   ],
   "metadata": {
    "collapsed": false,
    "pycharm": {
     "name": "#%%\n",
     "is_executing": false
    }
   }
  },
  {
   "cell_type": "code",
   "execution_count": null,
   "outputs": [],
   "source": [
    "for entry in d.entries:\n",
    "    print(entry.nink)"
   ],
   "metadata": {
    "collapsed": false,
    "pycharm": {
     "name": "#%%\n"
    }
   }
  },
  {
   "cell_type": "code",
   "execution_count": null,
   "outputs": [],
   "source": [
    "import lxml.html\n",
    "from pymongo import MongoClient\n",
    "\n",
    "tree = lxml.html.parse('index.html')\n",
    "html = tree.getroot()\n",
    "\n",
    "client = MongoClient('localhost', 27017)\n",
    "db = client.scraping\n",
    "collection = db.links\n",
    "\n",
    "collection.delete_many({})\n",
    "\n",
    "for a in html.cssselect('a'):\n",
    "    collection.insert_one({\n",
    "        'url': a.get('href'),\n",
    "        'title': a.text,\n",
    "    })\n",
    "\n",
    "for link in collection.find().sort('_id'):\n",
    "    print(link['_id'], link['url'], link['title'])"
   ],
   "metadata": {
    "collapsed": false,
    "pycharm": {
     "name": "#%%\n"
    }
   }
  },
  {
   "cell_type": "code",
   "execution_count": null,
   "outputs": [],
   "source": [
    "from urllib.parse import urljoin\n",
    "\n",
    "base_url = 'https://sample.scraping-book.com/dp/'\n",
    "urljoin(base_url, '//cdn.example.com/index.html')\n",
    "\n",
    "urljoin(base_url, '/articles/')"
   ],
   "metadata": {
    "collapsed": false,
    "pycharm": {
     "name": "#%%\n"
    }
   }
  },
  {
   "cell_type": "code",
   "execution_count": null,
   "outputs": [],
   "source": [
    "from requests\n",
    "import lxml"
   ],
   "metadata": {
    "collapsed": false,
    "pycharm": {
     "name": "#%%\n"
    }
   }
  }
 ],
 "metadata": {
  "kernelspec": {
   "display_name": "Python 3",
   "language": "python",
   "name": "python3"
  },
  "language_info": {
   "codemirror_mode": {
    "name": "ipython",
    "version": 2
   },
   "file_extension": ".py",
   "mimetype": "text/x-python",
   "name": "python",
   "nbconvert_exporter": "python",
   "pygments_lexer": "ipython2",
   "version": "2.7.6"
  },
  "pycharm": {
   "stem_cell": {
    "cell_type": "raw",
    "source": [],
    "metadata": {
     "collapsed": false
    }
   }
  }
 },
 "nbformat": 4,
 "nbformat_minor": 0
}